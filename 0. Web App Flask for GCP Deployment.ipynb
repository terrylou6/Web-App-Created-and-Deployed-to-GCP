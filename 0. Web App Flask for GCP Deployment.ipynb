{
 "cells": [
  {
   "cell_type": "code",
   "execution_count": null,
   "id": "f30475c1",
   "metadata": {},
   "outputs": [],
   "source": [
    "import pickle\n",
    "import pandas as pd\n",
    "from xgboost.sklearn import XGBRegressor\n",
    "from sklearn.preprocessing import LabelEncoder"
   ]
  },
  {
   "cell_type": "code",
   "execution_count": null,
   "id": "d8f1eef0",
   "metadata": {},
   "outputs": [],
   "source": [
    "train_df = pd.read_csv('C:/Users/ylou/MLC-Spring 2024/MLC-Week13-16-Group Project-Order Forecast/rohlik-orders-forecasting-challenge/train.csv') ## Load the train dataset"
   ]
  },
  {
   "cell_type": "code",
   "execution_count": null,
   "id": "740daf3c",
   "metadata": {},
   "outputs": [],
   "source": [
    "def add_date_features(df): ## Convert date features into numerical features\n",
    "    df['date'] = pd.to_datetime(df['date'])\n",
    "    df['year'] = df['date'].dt.year\n",
    "    df['month'] = df['date'].dt.month\n",
    "    df['day'] = df['date'].dt.day\n",
    "    df['dayofweek'] = df['date'].dt.dayofweek\n",
    "    df['is_weekend'] = df['dayofweek'].isin([5, 6]).astype(int)\n",
    "    df.drop('date', axis=1, inplace=True)\n",
    "    return df"
   ]
  },
  {
   "cell_type": "code",
   "execution_count": null,
   "id": "cf123da8",
   "metadata": {},
   "outputs": [],
   "source": [
    "train_df = add_date_features(train_df)"
   ]
  },
  {
   "cell_type": "code",
   "execution_count": null,
   "id": "d7796a84",
   "metadata": {},
   "outputs": [],
   "source": [
    "cols_to_drop = ['shutdown', 'mini_shutdown', 'mov_change', 'frankfurt_shutdown', 'precipitation', 'snow', 'user_activity_1', 'user_activity_2'] \n",
    "train_df.drop(cols_to_drop, axis=1, inplace=True) ## Drop irrelevant features from train dataset "
   ]
  },
  {
   "cell_type": "code",
   "execution_count": null,
   "id": "4cb3cc8e",
   "metadata": {},
   "outputs": [],
   "source": [
    "label_encoders = {} ## Apply label encoding on the warehouse and holiday_name features\n",
    "for col in ['warehouse', 'holiday_name']:\n",
    "    label_encoders[col] = LabelEncoder()\n",
    "    train_df[col] = label_encoders[col].fit_transform(train_df[col])"
   ]
  },
  {
   "cell_type": "code",
   "execution_count": null,
   "id": "3a02ba18",
   "metadata": {},
   "outputs": [],
   "source": [
    "def ensure_numeric(df): ## Ensure all features are in numerical format for the model development and prediction\n",
    "    for col in df.columns:\n",
    "        if df[col].dtype == 'object':\n",
    "            df[col] = LabelEncoder().fit_transform(df[col])\n",
    "    return df"
   ]
  },
  {
   "cell_type": "code",
   "execution_count": null,
   "id": "75796b87",
   "metadata": {},
   "outputs": [],
   "source": [
    "train_df = ensure_numeric(train_df)"
   ]
  },
  {
   "cell_type": "code",
   "execution_count": null,
   "id": "9b3cd54e",
   "metadata": {},
   "outputs": [],
   "source": [
    "train_df.drop('id', axis=1, inplace=True) ## Remove \"id\" feature from train dataset\n",
    "train_df.drop('blackout', axis=1, inplace=True) ## Remove \"blackout\" feature from train dataset"
   ]
  },
  {
   "cell_type": "code",
   "execution_count": null,
   "id": "df666d70",
   "metadata": {},
   "outputs": [],
   "source": [
    "train_df"
   ]
  },
  {
   "cell_type": "code",
   "execution_count": null,
   "id": "d097a553",
   "metadata": {},
   "outputs": [],
   "source": [
    "X = train_df.drop('orders', axis=1) ## The target variable is \"orders\" and remove it from the independent variables (X)\n",
    "y = train_df['orders'] ## Define target variable as \"orders\" for y"
   ]
  },
  {
   "cell_type": "code",
   "execution_count": null,
   "id": "e3aeab72",
   "metadata": {},
   "outputs": [],
   "source": [
    "X"
   ]
  },
  {
   "cell_type": "code",
   "execution_count": null,
   "id": "513eb20c",
   "metadata": {},
   "outputs": [],
   "source": [
    "y"
   ]
  },
  {
   "cell_type": "code",
   "execution_count": null,
   "id": "d07ae38b",
   "metadata": {},
   "outputs": [],
   "source": [
    "model = XGBRegressor()\n",
    "model.fit(X, y)"
   ]
  },
  {
   "cell_type": "code",
   "execution_count": null,
   "id": "a490f90e",
   "metadata": {},
   "outputs": [],
   "source": [
    "with open('model.pkl', 'wb') as f:\n",
    "    pickle.dump(model, f)"
   ]
  },
  {
   "cell_type": "code",
   "execution_count": 1,
   "id": "a909ec4b",
   "metadata": {},
   "outputs": [],
   "source": [
    "from flask import Flask, jsonify, request, render_template\n",
    "import json\n",
    "import numpy as np\n",
    "import pickle"
   ]
  },
  {
   "cell_type": "code",
   "execution_count": 2,
   "id": "db65e522",
   "metadata": {},
   "outputs": [],
   "source": [
    "with open(\"model.pkl\", \"rb\") as f:\n",
    "    model = pickle.load(f)"
   ]
  },
  {
   "cell_type": "code",
   "execution_count": 3,
   "id": "5969127e",
   "metadata": {},
   "outputs": [],
   "source": [
    "app = Flask(__name__, template_folder='C:/ProgramData/anaconda3/Lib/site-packages/flask/templates')"
   ]
  },
  {
   "cell_type": "code",
   "execution_count": 4,
   "id": "c435a4aa",
   "metadata": {},
   "outputs": [],
   "source": [
    "@app.route('/', methods=[\"GET\", \"POST\"])\n",
    "def index():\n",
    "    pred = \"\"\n",
    "    if request.method == \"POST\":\n",
    "        warehouse = request.form[\"warehouse\"]\n",
    "        holiday_name = request.form[\"holiday_name\"]\n",
    "        holiday = request.form[\"holiday\"]\n",
    "        shops_closed = request.form[\"shops_closed\"]\n",
    "        winter_school_holidays = request.form[\"winter_school_holidays\"]\n",
    "        school_holidays = request.form[\"school_holidays\"]\n",
    "        year = request.form[\"year\"]\n",
    "        month = request.form[\"month\"]\n",
    "        day = request.form[\"day\"]\n",
    "        dayofweek = request.form[\"dayofweek\"]\n",
    "        is_weekend = request.form[\"is_weekend\"]\n",
    "        X = np.array([[float(warehouse), float(holiday_name), float(holiday), float(shops_closed), float(winter_school_holidays), float(school_holidays), float(year), float(month), float(day), float(dayofweek), float(is_weekend)]])\n",
    "        pred = model.predict(X)[0]\n",
    "    return render_template(\"index_new.html\", pred=pred)"
   ]
  },
  {
   "cell_type": "code",
   "execution_count": null,
   "id": "91972d35",
   "metadata": {
    "scrolled": false
   },
   "outputs": [
    {
     "name": "stdout",
     "output_type": "stream",
     "text": [
      " * Serving Flask app '__main__'\n",
      " * Debug mode: off\n"
     ]
    },
    {
     "name": "stderr",
     "output_type": "stream",
     "text": [
      "WARNING: This is a development server. Do not use it in a production deployment. Use a production WSGI server instead.\n",
      " * Running on http://127.0.0.1:5000\n",
      "Press CTRL+C to quit\n",
      "127.0.0.1 - - [12/Jul/2024 00:18:33] \"GET / HTTP/1.1\" 200 -\n",
      "127.0.0.1 - - [12/Jul/2024 00:18:37] \"POST / HTTP/1.1\" 200 -\n",
      "127.0.0.1 - - [12/Jul/2024 00:33:22] \"GET / HTTP/1.1\" 200 -\n",
      "127.0.0.1 - - [12/Jul/2024 00:33:25] \"POST / HTTP/1.1\" 200 -\n",
      "127.0.0.1 - - [12/Jul/2024 00:33:37] \"POST / HTTP/1.1\" 200 -\n",
      "127.0.0.1 - - [12/Jul/2024 00:33:48] \"POST / HTTP/1.1\" 200 -\n"
     ]
    }
   ],
   "source": [
    "if __name__ == \"__main__\":\n",
    "    app.run(debug=False, host='127.0.0.1', port=5000)"
   ]
  },
  {
   "cell_type": "code",
   "execution_count": null,
   "id": "6f8841ec",
   "metadata": {},
   "outputs": [],
   "source": []
  }
 ],
 "metadata": {
  "kernelspec": {
   "display_name": "Python 3 (ipykernel)",
   "language": "python",
   "name": "python3"
  },
  "language_info": {
   "codemirror_mode": {
    "name": "ipython",
    "version": 3
   },
   "file_extension": ".py",
   "mimetype": "text/x-python",
   "name": "python",
   "nbconvert_exporter": "python",
   "pygments_lexer": "ipython3",
   "version": "3.11.5"
  }
 },
 "nbformat": 4,
 "nbformat_minor": 5
}
